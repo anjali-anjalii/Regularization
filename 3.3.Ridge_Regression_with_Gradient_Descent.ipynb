{
 "cells": [
  {
   "cell_type": "code",
   "execution_count": 1,
   "id": "52d92cdc-771c-4de2-9b05-2896e8ed4dd7",
   "metadata": {},
   "outputs": [],
   "source": [
    "from sklearn.datasets import load_diabetes\n",
    "from sklearn.metrics import r2_score\n",
    "import numpy as np"
   ]
  },
  {
   "cell_type": "code",
   "execution_count": 3,
   "id": "3d838c66-0e6c-4a43-9079-0c480e7a2d73",
   "metadata": {},
   "outputs": [],
   "source": [
    "x, y = load_diabetes(return_X_y = True)"
   ]
  },
  {
   "cell_type": "code",
   "execution_count": 5,
   "id": "d3f61ca1-4b5f-470e-a591-6cfaaa8e834d",
   "metadata": {},
   "outputs": [],
   "source": [
    "from sklearn.model_selection import train_test_split\n",
    "x_train, x_test, y_train, y_test = train_test_split(x, y, test_size=0.2, random_state=42)"
   ]
  },
  {
   "cell_type": "markdown",
   "id": "bc4f8426-61b1-4574-ab88-67f2252f1cc7",
   "metadata": {},
   "source": [
    "# Using Stochastic Gradient Descent"
   ]
  },
  {
   "cell_type": "code",
   "execution_count": 23,
   "id": "3e7108bb-188f-4017-8eac-7e074093761b",
   "metadata": {},
   "outputs": [
    {
     "name": "stdout",
     "output_type": "stream",
     "text": [
      "0.45966417458340336\n",
      "[158.4558962]\n",
      "[  42.85548936 -198.37232826  505.94132459  320.884399    -68.43551062\n",
      " -114.50503483 -214.51615585  147.0807582   373.66852751  107.09173472]\n"
     ]
    }
   ],
   "source": [
    "from sklearn.linear_model import SGDRegressor\n",
    "reg = SGDRegressor(penalty='l2', alpha=0.0001,max_iter=1000, learning_rate='constant', eta0=0.1)\n",
    "reg.fit(x_train, y_train)\n",
    "y_pred = reg.predict(x_test)\n",
    "r2 = r2_score(y_test, y_pred)\n",
    "print(r2)\n",
    "print(reg.intercept_)\n",
    "print(reg.coef_)"
   ]
  },
  {
   "cell_type": "markdown",
   "id": "cfbe30c6-f3e1-46d9-921b-9f3a9ec92616",
   "metadata": {},
   "source": [
    "# Using Ridge Class"
   ]
  },
  {
   "cell_type": "code",
   "execution_count": 31,
   "id": "d2bb7e10-be33-4ca5-8472-f1eb26d70d43",
   "metadata": {},
   "outputs": [
    {
     "name": "stdout",
     "output_type": "stream",
     "text": [
      "0.4534280297027061\n",
      "151.34198054164818\n",
      "[  38.4835076  -241.35179322  543.83518257  346.78283383 -827.70199038\n",
      "  437.17375291  116.94974958  260.75926951  696.12922808   49.7434509 ]\n"
     ]
    }
   ],
   "source": [
    "from sklearn.linear_model import Ridge\n",
    "reg = Ridge(alpha=0.001, max_iter=1000, solver='sparse_cg')\n",
    "# Solver: svd, cholesky, lsqr use OLS\n",
    "# Solver: sparse_cg, sag, saga use GD\n",
    "reg.fit(x_train, y_train)\n",
    "y_pred = reg.predict(x_test)\n",
    "r2 = r2_score(y_test, y_pred)\n",
    "print(r2)\n",
    "print(reg.intercept_)\n",
    "print(reg.coef_)"
   ]
  },
  {
   "cell_type": "markdown",
   "id": "bdd5b53d-6a98-45c1-bb72-fc06a20aa5c3",
   "metadata": {},
   "source": [
    "# Creating our own class with GD"
   ]
  },
  {
   "cell_type": "code",
   "execution_count": 38,
   "id": "53fb2a3b-a223-488c-8f87-ab7d768a8dbf",
   "metadata": {},
   "outputs": [],
   "source": [
    "class RidgeRegressorGD:\n",
    "    def __init__(self, epochs, learning_rate, alpha):\n",
    "        self.learning_rate = learning_rate\n",
    "        self.epochs = epochs\n",
    "        self.alpha = alpha\n",
    "        self.coef_ = None\n",
    "        self.intercept_ = None\n",
    "        \n",
    "    def fit(self, x_train, y_train):\n",
    "        self.coef_ = np.ones(x_train.shape[1])\n",
    "        self.intercept_ = 0\n",
    "        x_train = np.insert(x_train, 0, 1, axis=1)\n",
    "        beta = np.insert(self.coef_, 0, self.intercept_)\n",
    "        for i in range(self.epochs):\n",
    "            new_beta = np.insert(beta[1:], 0, 0)\n",
    "            beta_der = np.dot(x_train.T, x_train).dot(beta)- np.dot(y_train.T, x_train) + self.alpha*new_beta\n",
    "            beta = beta - self.learning_rate*beta_der\n",
    "        self.coef_ = beta[1:]\n",
    "        self.intercept_ = beta[0]\n",
    "        \n",
    "    def predict(self, x_test):\n",
    "        return np.dot(x_test, self.coef_) + self.intercept_\n",
    "        "
   ]
  },
  {
   "cell_type": "code",
   "execution_count": 40,
   "id": "d212c9c9-6279-47fe-970f-78e7d1e3971f",
   "metadata": {},
   "outputs": [
    {
     "name": "stdout",
     "output_type": "stream",
     "text": [
      "0.4567905702813908\n",
      "151.3084959365373\n",
      "[  39.61965208 -233.61289214  546.05235734  338.82841788  -93.58555191\n",
      " -128.17957664 -216.7954418   147.82221494  406.11600122   77.89246013]\n"
     ]
    }
   ],
   "source": [
    "rrgd = RidgeRegressorGD(1000, 0.005, 0.001)\n",
    "rrgd.fit(x_train, y_train)\n",
    "y_pred = rrgd.predict(x_test)\n",
    "r2 = r2_score(y_test, y_pred)\n",
    "print(r2)\n",
    "print(rrgd.intercept_)\n",
    "print(rrgd.coef_)"
   ]
  }
 ],
 "metadata": {
  "kernelspec": {
   "display_name": "Python 3 (ipykernel)",
   "language": "python",
   "name": "python3"
  },
  "language_info": {
   "codemirror_mode": {
    "name": "ipython",
    "version": 3
   },
   "file_extension": ".py",
   "mimetype": "text/x-python",
   "name": "python",
   "nbconvert_exporter": "python",
   "pygments_lexer": "ipython3",
   "version": "3.12.4"
  }
 },
 "nbformat": 4,
 "nbformat_minor": 5
}
