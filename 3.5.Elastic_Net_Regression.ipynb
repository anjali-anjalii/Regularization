{
 "cells": [
  {
   "cell_type": "code",
   "execution_count": 1,
   "id": "3003587c-8c6f-46d1-8092-8c68e688098d",
   "metadata": {},
   "outputs": [],
   "source": [
    "from sklearn.datasets import load_diabetes\n",
    "from sklearn.linear_model import LinearRegression, Ridge, Lasso, ElasticNet\n",
    "from sklearn.model_selection import train_test_split\n",
    "from sklearn.metrics import r2_score"
   ]
  },
  {
   "cell_type": "code",
   "execution_count": 3,
   "id": "b4361a2c-b381-4406-b30b-bc10c8627860",
   "metadata": {},
   "outputs": [],
   "source": [
    "x, y = load_diabetes(return_X_y = True)\n",
    "x_train, x_test, y_train, y_test = train_test_split(x, y, test_size=0.2, random_state=42)"
   ]
  },
  {
   "cell_type": "code",
   "execution_count": 5,
   "id": "2cab1a41-7793-4811-a857-f05bca3b4325",
   "metadata": {},
   "outputs": [
    {
     "name": "stdout",
     "output_type": "stream",
     "text": [
      "0.4526027629719195\n",
      "151.34560453985995\n",
      "[  37.90402135 -241.96436231  542.42875852  347.70384391 -931.48884588\n",
      "  518.06227698  163.41998299  275.31790158  736.1988589    48.67065743]\n"
     ]
    }
   ],
   "source": [
    "# Linear Regression\n",
    "lr = LinearRegression()\n",
    "lr.fit(x_train, y_train)\n",
    "y_pred = lr.predict(x_test)\n",
    "print(r2_score(y_test, y_pred))\n",
    "print(lr.intercept_)\n",
    "print(lr.coef_)"
   ]
  },
  {
   "cell_type": "code",
   "execution_count": 7,
   "id": "853b0a40-d329-4d17-9a94-2980aafdd3b0",
   "metadata": {},
   "outputs": [
    {
     "name": "stdout",
     "output_type": "stream",
     "text": [
      "0.46085219464119254\n",
      "151.4585745667961\n",
      "[  42.85566976 -205.49431899  505.08903304  317.0932049  -108.50026183\n",
      "  -86.23673333 -190.36318008  151.70708637  392.28931896   79.9081772 ]\n"
     ]
    }
   ],
   "source": [
    "# Ridge\n",
    "rr = Ridge(alpha=0.1)\n",
    "rr.fit(x_train, y_train)\n",
    "y_pred = rr.predict(x_test)\n",
    "print(r2_score(y_test, y_pred))\n",
    "print(rr.intercept_)\n",
    "print(rr.coef_)"
   ]
  },
  {
   "cell_type": "code",
   "execution_count": 9,
   "id": "bf83abb4-7974-43b5-8407-de5c10baa71b",
   "metadata": {},
   "outputs": [
    {
     "name": "stdout",
     "output_type": "stream",
     "text": [
      "0.45668611945806237\n",
      "151.3434891207199\n",
      "[  35.34745133 -231.90666401  551.3032416   341.31346895 -483.56713972\n",
      "  165.99053164  -25.8348991   216.87580276  566.81500336   49.70247477]\n"
     ]
    }
   ],
   "source": [
    "# Lasso\n",
    "lr = Lasso(alpha=0.01)\n",
    "lr.fit(x_train, y_train)\n",
    "y_pred = lr.predict(x_test)\n",
    "print(r2_score(y_test, y_pred))\n",
    "print(lr.intercept_)\n",
    "print(lr.coef_)"
   ]
  },
  {
   "cell_type": "code",
   "execution_count": 19,
   "id": "8d7f31d7-969f-4911-9fb6-904edfafa34f",
   "metadata": {},
   "outputs": [
    {
     "name": "stdout",
     "output_type": "stream",
     "text": [
      "0.46143929357725366\n",
      "151.45456165845678\n",
      "[  40.39984615 -205.53931576  510.2455085   318.41399442 -112.56735637\n",
      "  -81.20226897 -190.14365716  147.30004097  398.05205962   76.58808557]\n"
     ]
    }
   ],
   "source": [
    "# Elastic Net\n",
    "r = ElasticNet(alpha=0.005, l1_ratio=0.95)\n",
    "r.fit(x_train, y_train)\n",
    "y_pred = r.predict(x_test)\n",
    "print(r2_score(y_test, y_pred))\n",
    "print(r.intercept_)\n",
    "print(r.coef_)"
   ]
  }
 ],
 "metadata": {
  "kernelspec": {
   "display_name": "Python 3 (ipykernel)",
   "language": "python",
   "name": "python3"
  },
  "language_info": {
   "codemirror_mode": {
    "name": "ipython",
    "version": 3
   },
   "file_extension": ".py",
   "mimetype": "text/x-python",
   "name": "python",
   "nbconvert_exporter": "python",
   "pygments_lexer": "ipython3",
   "version": "3.12.4"
  }
 },
 "nbformat": 4,
 "nbformat_minor": 5
}
